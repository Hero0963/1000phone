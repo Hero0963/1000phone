{
  "nbformat": 4,
  "nbformat_minor": 0,
  "metadata": {
    "colab": {
      "provenance": [],
      "authorship_tag": "ABX9TyPHzuQLDnG+IOAAkDDzRoH9",
      "include_colab_link": true
    },
    "kernelspec": {
      "name": "python3",
      "display_name": "Python 3"
    },
    "language_info": {
      "name": "python"
    }
  },
  "cells": [
    {
      "cell_type": "markdown",
      "metadata": {
        "id": "view-in-github",
        "colab_type": "text"
      },
      "source": [
        "<a href=\"https://colab.research.google.com/github/Hero0963/1000phone/blob/main/task02/dscamp_lv2_task02_hw04_ipynbipynb.ipynb\" target=\"_parent\"><img src=\"https://colab.research.google.com/assets/colab-badge.svg\" alt=\"Open In Colab\"/></a>"
      ]
    },
    {
      "cell_type": "markdown",
      "source": [
        "# **1. 可以簡單說明 Pandas 與 NumPy 分別想要解決的問題是什麼？** \n",
        "  pandas 和 numpy 都是 Python 中常用的數據處理庫。pandas 是基於 numpy 數組構建的，但是在此基礎上進行了很多功能性的封裝和擴展，使得 pandas 更加適合處理表格和混雜數據。而 numpy 則更適合處理統一的數值數組數據。"
      ],
      "metadata": {
        "id": "VVqAtlbwJczi"
      }
    },
    {
      "cell_type": "markdown",
      "source": [
        "# **2. Pandas 中的 DataFrame 和 Series 跟 NumPy 中的一維、二維 Array 有什麼差別？**  \n",
        "在 NumPy 中，ndarray 是一個多維數組對象，它是由相同類型的元素組成的。  \n",
        "而在 Pandas 中的 Series 和 DataFrame 可以包含不同類型的數據。"
      ],
      "metadata": {
        "id": "Sa5EqXVPJ74d"
      }
    },
    {
      "cell_type": "markdown",
      "source": [
        "# **3. 什麼是 Pandas/NumPy 中的「廣播」的運算特性？**  \n",
        "廣播(Broadcast)是 numpy 對不同形狀(shape)的數組進行數值計算的方式。廣播的規則如下：  \n",
        "  a. 所有輸入數組都 reshape 成與形狀最長的數組一致，不足的部分在前面加 1 補齊。  \n",
        "  b. 最終輸出數組的形狀會是輸入數組形狀各維度上的最大值。  \n",
        "對數組的算術運算通常在相應的元素上進行。廣播的使用原來的向量而不需要再複製一份，所以很高效。"
      ],
      "metadata": {
        "id": "fIDHNm0PKkJj"
      }
    },
    {
      "cell_type": "markdown",
      "source": [
        "# **4. NumPy 中資料型態 uint、int16、int_ 跟原本 Python 中的 int 有什麼差異？Pandas 中的 categorical 型態是什麼？** \n",
        "NumPy 中，uint、int16、int_ 有範圍限制，因 Numpy 底層是使用 C 語言編寫而成，所以可以互相對應。  \n",
        "int_ 為預設整數類型，相當於 C 語言中的 long, int32, int64  \n",
        "int16 為 16bit integer, -32768 ~ 32767   \n",
        "uint 對應 unsigned long  \n",
        "而 Python 中的 int 可以表示任意大小的整數。  \n",
        "categorical 是 Pandas 中的分類類型數據，適用場景為當數據只有少數幾種可能取值但有大量重覆字符串字段，常見的分類如性別、職業、血型、等級等。  \n"
      ],
      "metadata": {
        "id": "LGd9JAvUOqJO"
      }
    },
    {
      "cell_type": "markdown",
      "source": [
        "# **5. 為什麼 NumPy 可以比較有效率的處理資料？**    \n",
        "Numpy 的底層是使用 C 語言實現的，這使得 Numpy 具有很高的效率和速度。  \n",
        "Numpy 中的 ndarray 是由相同類型的元素組成的，而 Python 中的 list 元素類型是任意的。因此 ndarray 可以連續地儲存元素，而 Python 原生 list 則只能通過尋址方式找到下一個元素，也是 Numpy 高效的原因之一。"
      ],
      "metadata": {
        "id": "wabbGnJEYklI"
      }
    }
  ]
}