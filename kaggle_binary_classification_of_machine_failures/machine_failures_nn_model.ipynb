{
  "nbformat": 4,
  "nbformat_minor": 0,
  "metadata": {
    "colab": {
      "provenance": [],
      "machine_shape": "hm",
      "gpuType": "A100",
      "authorship_tag": "ABX9TyMrHbtzyiA0kf33DFkL5Mqy",
      "include_colab_link": true
    },
    "kernelspec": {
      "name": "python3",
      "display_name": "Python 3"
    },
    "language_info": {
      "name": "python"
    },
    "accelerator": "GPU"
  },
  "cells": [
    {
      "cell_type": "markdown",
      "metadata": {
        "id": "view-in-github",
        "colab_type": "text"
      },
      "source": [
        "<a href=\"https://colab.research.google.com/github/Hero0963/1000phone/blob/main/kaggle_binary_classification_of_machine_failures/machine_failures_nn_model.ipynb\" target=\"_parent\"><img src=\"https://colab.research.google.com/assets/colab-badge.svg\" alt=\"Open In Colab\"/></a>"
      ]
    },
    {
      "cell_type": "code",
      "execution_count": null,
      "metadata": {
        "id": "vD1wB224dHDJ"
      },
      "outputs": [],
      "source": [
        "from google.colab import files\n",
        "files.upload()"
      ]
    },
    {
      "cell_type": "code",
      "source": [
        "!rm -r ~/.kaggle\n",
        "!mkdir ~/.kaggle\n",
        "!mv ./kaggle.json ~/.kaggle/\n",
        "!chmod 600 ~/.kaggle/kaggle.json"
      ],
      "metadata": {
        "id": "FyplPz-Me2hE",
        "colab": {
          "base_uri": "https://localhost:8080/"
        },
        "outputId": "58466061-a858-4c8c-e3d6-f1c29de287d3"
      },
      "execution_count": null,
      "outputs": [
        {
          "output_type": "stream",
          "name": "stdout",
          "text": [
            "rm: cannot remove '/root/.kaggle': No such file or directory\n"
          ]
        }
      ]
    },
    {
      "cell_type": "code",
      "source": [
        "!kaggle competitions download -c playground-series-s3e17"
      ],
      "metadata": {
        "colab": {
          "base_uri": "https://localhost:8080/"
        },
        "id": "Php0HOdYe6sm",
        "outputId": "eaf92eac-33c5-4290-b914-37b3cf016aa4"
      },
      "execution_count": null,
      "outputs": [
        {
          "output_type": "stream",
          "name": "stdout",
          "text": [
            "Downloading playground-series-s3e17.zip to /content\n",
            "\r  0% 0.00/3.49M [00:00<?, ?B/s]\n",
            "\r100% 3.49M/3.49M [00:00<00:00, 220MB/s]\n"
          ]
        }
      ]
    },
    {
      "cell_type": "code",
      "source": [
        "import zipfile\n",
        "import pandas as pd\n",
        "\n",
        "# 解壓縮zip檔案\n",
        "with zipfile.ZipFile('/content/playground-series-s3e17.zip', 'r') as zip_ref:\n",
        "    zip_ref.extractall('/content/extracted_folder')\n"
      ],
      "metadata": {
        "id": "d0EEVpNIfJzQ"
      },
      "execution_count": null,
      "outputs": []
    },
    {
      "cell_type": "code",
      "source": [
        "df_train = pd.read_csv('/content/extracted_folder/train.csv')"
      ],
      "metadata": {
        "id": "NggydmYnfh3b"
      },
      "execution_count": null,
      "outputs": []
    },
    {
      "cell_type": "code",
      "source": [
        "df_test = pd.read_csv('/content/extracted_folder/test.csv')"
      ],
      "metadata": {
        "id": "e4AbWOYo-mg_"
      },
      "execution_count": null,
      "outputs": []
    },
    {
      "cell_type": "code",
      "source": [
        "df_all = pd.concat([df_train, df_test], ignore_index=True)"
      ],
      "metadata": {
        "id": "reKpEwfK-4Yq"
      },
      "execution_count": null,
      "outputs": []
    },
    {
      "cell_type": "code",
      "source": [
        "features = df_all.drop('Machine failure', axis=1)\n",
        "label = df_all['Machine failure']"
      ],
      "metadata": {
        "id": "fJhZ3lDzh7cs"
      },
      "execution_count": null,
      "outputs": []
    },
    {
      "cell_type": "code",
      "source": [
        "X = features\n",
        "y = label"
      ],
      "metadata": {
        "id": "5o-mEk7sluKL"
      },
      "execution_count": null,
      "outputs": []
    },
    {
      "cell_type": "code",
      "source": [
        "selected_features = ['HDF', 'OSF', 'PWF', 'TWF', 'Torque [Nm]']"
      ],
      "metadata": {
        "id": "-s159T6emdzT"
      },
      "execution_count": null,
      "outputs": []
    },
    {
      "cell_type": "code",
      "source": [
        "X_s = X[selected_features]"
      ],
      "metadata": {
        "id": "1RVMQnLdnAJs"
      },
      "execution_count": null,
      "outputs": []
    },
    {
      "cell_type": "markdown",
      "source": [
        "#Normalize Features"
      ],
      "metadata": {
        "id": "Hv7AkvR2hlXZ"
      }
    },
    {
      "cell_type": "code",
      "source": [
        "from sklearn.preprocessing import StandardScaler, MinMaxScaler\n",
        "\n",
        "\n",
        "# 標準化\n",
        "scaler = StandardScaler()\n",
        "features_normalized_standardized  = X_s.copy()\n",
        "features_normalized_standardized = scaler.fit_transform(features_normalized_standardized)"
      ],
      "metadata": {
        "id": "Whx-qVYreUjp"
      },
      "execution_count": null,
      "outputs": []
    },
    {
      "cell_type": "code",
      "source": [
        "df_train_data = df_all[df_all['Machine failure'].notnull()]\n",
        "df_test_data = df_all[df_all['Machine failure'].isnull()]"
      ],
      "metadata": {
        "id": "vS0xB60T_Vgx"
      },
      "execution_count": null,
      "outputs": []
    },
    {
      "cell_type": "code",
      "source": [
        "X = df_train_data[selected_features]\n",
        "y = df_train_data['Machine failure']"
      ],
      "metadata": {
        "id": "dHGKtGkt_laO"
      },
      "execution_count": null,
      "outputs": []
    },
    {
      "cell_type": "markdown",
      "source": [
        "# OverSampling"
      ],
      "metadata": {
        "id": "oBVfyI8TjvIf"
      }
    },
    {
      "cell_type": "code",
      "source": [
        "from imblearn.over_sampling import RandomOverSampler, SMOTE\n",
        "\n",
        "# 創建Oversampling的實例\n",
        "# 隨機過採樣（Random Over Sampling）\n",
        "ros = RandomOverSampler(random_state=42)\n",
        "\n",
        "# SMOTE過採樣（Synthetic Minority Over-sampling Technique）\n",
        "smote = SMOTE(random_state=42)\n",
        "\n",
        "# 使用Oversampling方法處理不平衡數據集\n",
        "X_ros, y_ros = ros.fit_resample(X, y)  # 使用Random Over Sampling\n",
        "X_smote, y_smote = smote.fit_resample(X, y)  # 使用SMOTE\n",
        "\n",
        "# X_ros 和 y_ros 是經過Random Over Sampling後的新數據集\n",
        "# X_smote 和 y_smote 是經過SMOTE過採樣後的新數據集"
      ],
      "metadata": {
        "id": "l4P17fg-j0wi"
      },
      "execution_count": null,
      "outputs": []
    },
    {
      "cell_type": "code",
      "source": [
        "X = X_smote\n",
        "y = y_smote"
      ],
      "metadata": {
        "id": "9MRljLLfBfe-"
      },
      "execution_count": null,
      "outputs": []
    },
    {
      "cell_type": "code",
      "source": [
        "from sklearn.model_selection import train_test_split\n",
        "\n",
        "\n",
        "train_X, test_X, train_y, test_y = train_test_split(X, y, test_size = 0.2, random_state = 42)"
      ],
      "metadata": {
        "id": "2S-ajX-3K4Rl"
      },
      "execution_count": null,
      "outputs": []
    },
    {
      "cell_type": "code",
      "source": [
        "import torch\n",
        "import torch.nn as nn\n",
        "import torch.nn.functional as F\n",
        "from sklearn.metrics import accuracy_score\n",
        "from sklearn.metrics import roc_auc_score\n",
        "\n",
        "class Model(nn.Module):\n",
        "    def __init__(self, input_size, hidden_size, output_size, num_layers, dropout_rate):\n",
        "        super(Model, self).__init__()\n",
        "        self.dropout_rate = dropout_rate\n",
        "        self.num_layers = num_layers\n",
        "\n",
        "        self.input_norm = nn.BatchNorm1d(input_size)\n",
        "\n",
        "        self.hidden_layers = nn.ModuleList()\n",
        "        self.hidden_layers.append(nn.Linear(input_size, hidden_size))\n",
        "\n",
        "        for _ in range(num_layers - 1):\n",
        "            self.hidden_layers.append(nn.Linear(hidden_size, hidden_size))\n",
        "\n",
        "        self.predict = nn.Linear(hidden_size, output_size)\n",
        "\n",
        "    def forward(self, x):\n",
        "        x = self.input_norm(x)\n",
        "\n",
        "        for i in range(self.num_layers):\n",
        "            x = self.hidden_layers[i](x)\n",
        "            x = F.relu(x)\n",
        "            x = F.dropout(x, p=self.dropout_rate, training=self.training)\n",
        "\n",
        "        output = F.softmax(self.predict(x), dim=1)\n",
        "        return output\n",
        "\n",
        "# 模型、優化器初始化\n",
        "input_size = train_X.shape[1]\n",
        "hidden_size = 32\n",
        "output_size = 2\n",
        "num_layers = 3\n",
        "dropout_rate = 0.1\n",
        "model = Model(input_size, hidden_size, output_size, num_layers, dropout_rate)\n",
        "\n",
        "optimizer = torch.optim.SGD(model.parameters(), lr=0.01, momentum=0.0) # 模型參數優化器\n",
        "loss_func = torch.nn.BCELoss()"
      ],
      "metadata": {
        "id": "_pVJiJxEKCEI"
      },
      "execution_count": null,
      "outputs": []
    },
    {
      "cell_type": "code",
      "source": [
        "import tensorflow as tf\n",
        "train_y_onehot = tf.keras.utils.to_categorical(train_y, num_classes=2)"
      ],
      "metadata": {
        "id": "BNSVdmyiKdyY"
      },
      "execution_count": null,
      "outputs": []
    },
    {
      "cell_type": "code",
      "source": [
        "# 資料格式轉成torch專用格式\n",
        "x_data = torch.tensor(train_X.values, dtype=torch.float32)\n",
        "y_data = torch.tensor(train_y_onehot, dtype=torch.float32)"
      ],
      "metadata": {
        "id": "bU-nImvDKu7Z"
      },
      "execution_count": null,
      "outputs": []
    },
    {
      "cell_type": "code",
      "source": [
        "batch_size = 128\n",
        "num_epochs = 100\n",
        "num_batches = len(train_X) // batch_size\n",
        "loss_list = []"
      ],
      "metadata": {
        "id": "xBTkbC7WLhnI"
      },
      "execution_count": null,
      "outputs": []
    },
    {
      "cell_type": "code",
      "source": [
        "for epoch in range(num_epochs):\n",
        "    for i in range(num_batches):\n",
        "        start = i * batch_size\n",
        "        end = start + batch_size\n",
        "        prediction = model(x_data[start:end])\n",
        "        loss = loss_func(prediction, y_data[start:end])\n",
        "\n",
        "        optimizer.zero_grad()\n",
        "        loss.backward()\n",
        "        optimizer.step()\n",
        "\n",
        "    loss = loss_func(model(x_data), y_data)\n",
        "    loss_list.append(loss.item())\n",
        "\n",
        "\n",
        "\n",
        "\n",
        "print(' ===== done =====')\n",
        "\n",
        "print(loss_list)"
      ],
      "metadata": {
        "colab": {
          "base_uri": "https://localhost:8080/"
        },
        "id": "l7KEyv-0LjKt",
        "outputId": "14eba884-5503-46ee-954d-c6362d109c0f"
      },
      "execution_count": null,
      "outputs": [
        {
          "output_type": "stream",
          "name": "stdout",
          "text": [
            " ===== done =====\n",
            "[0.28374767303466797, 0.2791767716407776, 0.2769570052623749, 0.27599790692329407, 0.27504998445510864, 0.2747669517993927, 0.274265319108963, 49.94575881958008, 49.980831146240234, 49.936466217041016, 49.982547760009766, 49.8708381652832, 49.865718841552734, 49.96672058105469, 49.92203903198242, 49.902488708496094, 49.94763946533203, 49.8708381652832, 49.98580551147461, 49.8955078125, 49.96997833251953, 49.886199951171875, 49.9848747253418, 49.98440933227539, 49.969512939453125, 49.86013412475586, 49.96858215332031, 49.97742462158203, 49.97044372558594, 49.947174072265625, 50.069583892822266, 50.11845397949219, 50.119693756103516, 50.10356140136719, 50.10681915283203, 50.15010452270508, 50.14870834350586, 50.12776565551758, 50.152462005615234, 50.02583312988281, 50.14265823364258, 50.2236442565918, 50.070980072021484, 50.14731216430664, 50.2174186706543, 50.17198181152344, 50.186439514160156, 50.1445198059082, 50.249244689941406, 50.10356140136719, 50.10681915283203, 50.256690979003906, 50.116127014160156, 50.1370735168457, 50.13371276855469, 50.18408203125, 50.11798858642578, 50.0868034362793, 50.178497314453125, 50.1589469909668, 50.139400482177734, 50.22075653076172, 50.26832962036133, 50.20316696166992, 50.01140213012695, 50.113338470458984, 50.18408203125, 49.96858215332031, 49.96253204345703, 50.03746795654297, 50.006282806396484, 49.969512939453125, 50.00442123413086, 50.00907516479492, 49.947174072265625, 50.04817199707031, 49.98021697998047, 50.01419448852539, 49.9853401184082, 50.00442123413086, 50.03839874267578, 49.98952865600586, 49.98952865600586, 49.98952865600586, 49.98952865600586, 49.98952865600586, 49.98952865600586, 49.98952865600586, 49.98952865600586, 49.98952865600586, 49.98952865600586, 49.98952865600586, 49.98952865600586, 49.98952865600586, 49.98952865600586, 49.98952865600586, 49.98952865600586, 49.98952865600586, 49.98952865600586, 49.98952865600586]\n"
          ]
        }
      ]
    },
    {
      "cell_type": "code",
      "source": [
        "# 資料格式轉成torch專用格式\n",
        "x_data = torch.tensor(test_X.values, dtype=torch.float32)\n",
        "\n",
        "y_pred = model(x_data)\n",
        "y_pred = y_pred.argmax(1) # one hot array to int array"
      ],
      "metadata": {
        "id": "FmU7oTv2LmRW"
      },
      "execution_count": null,
      "outputs": []
    },
    {
      "cell_type": "code",
      "source": [
        "from sklearn.metrics import classification_report, accuracy_score\n",
        "print(classification_report(test_y, y_pred))"
      ],
      "metadata": {
        "colab": {
          "base_uri": "https://localhost:8080/"
        },
        "id": "qzmCSuxoQEwV",
        "outputId": "0b166ec0-fc8b-4a0e-93e6-2011481d4731"
      },
      "execution_count": null,
      "outputs": [
        {
          "output_type": "stream",
          "name": "stdout",
          "text": [
            "              precision    recall  f1-score   support\n",
            "\n",
            "         0.0       0.00      0.00      0.00     26879\n",
            "         1.0       0.50      1.00      0.67     26834\n",
            "\n",
            "    accuracy                           0.50     53713\n",
            "   macro avg       0.25      0.50      0.33     53713\n",
            "weighted avg       0.25      0.50      0.33     53713\n",
            "\n"
          ]
        },
        {
          "output_type": "stream",
          "name": "stderr",
          "text": [
            "/usr/local/lib/python3.10/dist-packages/sklearn/metrics/_classification.py:1344: UndefinedMetricWarning: Precision and F-score are ill-defined and being set to 0.0 in labels with no predicted samples. Use `zero_division` parameter to control this behavior.\n",
            "  _warn_prf(average, modifier, msg_start, len(result))\n",
            "/usr/local/lib/python3.10/dist-packages/sklearn/metrics/_classification.py:1344: UndefinedMetricWarning: Precision and F-score are ill-defined and being set to 0.0 in labels with no predicted samples. Use `zero_division` parameter to control this behavior.\n",
            "  _warn_prf(average, modifier, msg_start, len(result))\n",
            "/usr/local/lib/python3.10/dist-packages/sklearn/metrics/_classification.py:1344: UndefinedMetricWarning: Precision and F-score are ill-defined and being set to 0.0 in labels with no predicted samples. Use `zero_division` parameter to control this behavior.\n",
            "  _warn_prf(average, modifier, msg_start, len(result))\n"
          ]
        }
      ]
    },
    {
      "cell_type": "markdown",
      "source": [
        "# ref: https://www.kaggle.com/code/kkhandekar/binary-classification-tensorflow-v-s-pytorch"
      ],
      "metadata": {
        "id": "Otr1S6qHREqB"
      }
    }
  ]
}