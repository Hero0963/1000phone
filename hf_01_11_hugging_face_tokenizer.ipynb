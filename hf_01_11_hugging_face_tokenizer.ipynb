{
  "cells": [
    {
      "cell_type": "markdown",
      "metadata": {
        "id": "view-in-github",
        "colab_type": "text"
      },
      "source": [
        "<a href=\"https://colab.research.google.com/github/Hero0963/1000phone/blob/main/hf_01_11_hugging_face_tokenizer.ipynb\" target=\"_parent\"><img src=\"https://colab.research.google.com/assets/colab-badge.svg\" alt=\"Open In Colab\"/></a>"
      ]
    },
    {
      "cell_type": "code",
      "execution_count": null,
      "id": "acb7b6c1",
      "metadata": {
        "id": "acb7b6c1"
      },
      "outputs": [],
      "source": [
        "# ref = https://ithelp.ithome.com.tw/articles/10299576"
      ]
    },
    {
      "cell_type": "code",
      "execution_count": null,
      "id": "22e0d3d2",
      "metadata": {
        "id": "22e0d3d2"
      },
      "outputs": [],
      "source": [
        "from transformers import AutoTokenizer\n",
        "\n",
        "string = \"Only those who will risk going too far can possibly find out how far one can go.\"\n",
        "\n",
        "model_name = \"distilbert-base-uncased-finetuned-sst-2-english\" #直接叫model名字\n",
        "tokenizer = AutoTokenizer.from_pretrained(model_name)"
      ]
    },
    {
      "cell_type": "code",
      "execution_count": null,
      "id": "1e5df5a7",
      "metadata": {
        "id": "1e5df5a7"
      },
      "outputs": [],
      "source": [
        "from transformers import DistilBertTokenizer\n",
        "\n",
        "distilbert_tokenizer = DistilBertTokenizer.from_pretrained(model_name)"
      ]
    },
    {
      "cell_type": "code",
      "execution_count": null,
      "id": "053ed054",
      "metadata": {
        "id": "053ed054",
        "outputId": "bb968bb7-de1a-4ef2-efbe-7ad9244c838b"
      },
      "outputs": [
        {
          "data": {
            "text/plain": [
              "{'input_ids': [101, 2069, 2216, 2040, 2097, 3891, 2183, 2205, 2521, 2064, 4298, 2424, 2041, 2129, 2521, 2028, 2064, 2175, 1012, 102], 'attention_mask': [1, 1, 1, 1, 1, 1, 1, 1, 1, 1, 1, 1, 1, 1, 1, 1, 1, 1, 1, 1]}"
            ]
          },
          "execution_count": 3,
          "metadata": {},
          "output_type": "execute_result"
        }
      ],
      "source": [
        "encoded_str = tokenizer(string, padding=True, truncation=True) \n",
        "encoded_str"
      ]
    },
    {
      "cell_type": "code",
      "execution_count": null,
      "id": "921d1bc6",
      "metadata": {
        "id": "921d1bc6"
      },
      "outputs": [],
      "source": [
        "# Special Token\t    [PAD]\t[UNK]\t[CLS]\t[SEP]\t[MASK]\n",
        "# Special Token ID  0\t    100\t    101\t    102\t    103"
      ]
    },
    {
      "cell_type": "code",
      "execution_count": null,
      "id": "f01cfb4d",
      "metadata": {
        "id": "f01cfb4d",
        "outputId": "c8d8fc06-d0b0-4ece-d445-dd57d41698b3"
      },
      "outputs": [
        {
          "data": {
            "text/plain": [
              "['[CLS]',\n",
              " 'only',\n",
              " 'those',\n",
              " 'who',\n",
              " 'will',\n",
              " 'risk',\n",
              " 'going',\n",
              " 'too',\n",
              " 'far',\n",
              " 'can',\n",
              " 'possibly',\n",
              " 'find',\n",
              " 'out',\n",
              " 'how',\n",
              " 'far',\n",
              " 'one',\n",
              " 'can',\n",
              " 'go',\n",
              " '.',\n",
              " '[SEP]']"
            ]
          },
          "execution_count": 4,
          "metadata": {},
          "output_type": "execute_result"
        }
      ],
      "source": [
        "tokens = tokenizer.convert_ids_to_tokens(encoded_str.input_ids)\n",
        "tokens"
      ]
    },
    {
      "cell_type": "code",
      "execution_count": null,
      "id": "bbed3fd4",
      "metadata": {
        "id": "bbed3fd4",
        "outputId": "f4ae90fa-9f7b-40d0-d5d3-e1dc396c78ed"
      },
      "outputs": [
        {
          "name": "stdout",
          "output_type": "stream",
          "text": [
            "[CLS] only those who will risk going too far can possibly find out how far one can go. [SEP]\n"
          ]
        }
      ],
      "source": [
        "print(tokenizer.convert_tokens_to_string(tokens))"
      ]
    },
    {
      "cell_type": "code",
      "execution_count": null,
      "id": "8820ef43",
      "metadata": {
        "id": "8820ef43",
        "outputId": "bf94dcf7-396a-4048-f32a-2b9a53a8df03"
      },
      "outputs": [
        {
          "data": {
            "text/plain": [
              "{'input_ids': [[101, 2069, 2216, 2040, 2097, 3891, 2183, 2205, 2521, 2064, 4298, 2424, 2041, 2129, 2521, 2028, 2064, 2175, 1012, 102], [101, 3336, 11420, 1010, 20160, 20160, 20160, 20160, 20160, 20160, 1010, 3336, 11420, 999, 102, 0, 0, 0, 0, 0]], 'attention_mask': [[1, 1, 1, 1, 1, 1, 1, 1, 1, 1, 1, 1, 1, 1, 1, 1, 1, 1, 1, 1], [1, 1, 1, 1, 1, 1, 1, 1, 1, 1, 1, 1, 1, 1, 1, 0, 0, 0, 0, 0]]}"
            ]
          },
          "execution_count": 6,
          "metadata": {},
          "output_type": "execute_result"
        }
      ],
      "source": [
        "string_array = [\n",
        "    string,\n",
        "    \"Baby shark, doo doo doo doo doo doo, Baby shark!\"\n",
        "]\n",
        "\n",
        "encoded_str_arr = tokenizer(string_array, padding=True, truncation=True)\n",
        "encoded_str_arr\n",
        "\n",
        "# padding 0 for sentence 2"
      ]
    },
    {
      "cell_type": "code",
      "execution_count": null,
      "id": "30084196",
      "metadata": {
        "id": "30084196",
        "outputId": "c1cfc2f2-964e-4219-d912-b3a62dd897d8",
        "colab": {
          "referenced_widgets": [
            "00128c7baca44460901ae664bc92a9e8"
          ]
        }
      },
      "outputs": [
        {
          "name": "stderr",
          "output_type": "stream",
          "text": [
            "Found cached dataset poem_sentiment (/home/gkaok2/.cache/huggingface/datasets/poem_sentiment/default/1.0.0/4e44428256d42cdde0be6b3db1baa587195e91847adabf976e4f9454f6a82099)\n"
          ]
        },
        {
          "data": {
            "application/vnd.jupyter.widget-view+json": {
              "model_id": "00128c7baca44460901ae664bc92a9e8",
              "version_major": 2,
              "version_minor": 0
            },
            "text/plain": [
              "  0%|          | 0/3 [00:00<?, ?it/s]"
            ]
          },
          "metadata": {},
          "output_type": "display_data"
        }
      ],
      "source": [
        "from datasets import load_dataset\n",
        "sentiment = load_dataset(\"poem_sentiment\")"
      ]
    },
    {
      "cell_type": "code",
      "execution_count": null,
      "id": "9d3e6658",
      "metadata": {
        "id": "9d3e6658"
      },
      "outputs": [],
      "source": [
        "def tokenize(batch):\n",
        "    return tokenizer(batch[\"verse_text\"], padding=True, truncation=True)"
      ]
    },
    {
      "cell_type": "code",
      "execution_count": null,
      "id": "eb24e292",
      "metadata": {
        "id": "eb24e292",
        "outputId": "73b9848a-d666-41ed-ef19-4f37dfd99560"
      },
      "outputs": [
        {
          "name": "stdout",
          "output_type": "stream",
          "text": [
            "{'input_ids': [[101, 2007, 5122, 2630, 22681, 1012, 1999, 2122, 9379, 13178, 1011, 1011, 102], [101, 2009, 6223, 2061, 2146, 2004, 4212, 1996, 4542, 1010, 102, 0, 0], [101, 1998, 2008, 2003, 2339, 1010, 1996, 10459, 14045, 2154, 1010, 102, 0]], 'attention_mask': [[1, 1, 1, 1, 1, 1, 1, 1, 1, 1, 1, 1, 1], [1, 1, 1, 1, 1, 1, 1, 1, 1, 1, 1, 0, 0], [1, 1, 1, 1, 1, 1, 1, 1, 1, 1, 1, 1, 0]]}\n"
          ]
        }
      ],
      "source": [
        "print(tokenize(sentiment[\"train\"][:3]))"
      ]
    },
    {
      "cell_type": "code",
      "execution_count": null,
      "id": "1b3166ef",
      "metadata": {
        "id": "1b3166ef",
        "outputId": "1067a1cf-b35f-4cc4-c567-d19f5c84a249",
        "colab": {
          "referenced_widgets": [
            "d6ac27424ee2463dab793a0a67e2f822",
            "f7b2136a3997485b8b7234819e77ba72",
            "4df2c0885ca24fca86334f339325e751"
          ]
        }
      },
      "outputs": [
        {
          "data": {
            "application/vnd.jupyter.widget-view+json": {
              "model_id": "d6ac27424ee2463dab793a0a67e2f822",
              "version_major": 2,
              "version_minor": 0
            },
            "text/plain": [
              "  0%|          | 0/1 [00:00<?, ?ba/s]"
            ]
          },
          "metadata": {},
          "output_type": "display_data"
        },
        {
          "data": {
            "application/vnd.jupyter.widget-view+json": {
              "model_id": "f7b2136a3997485b8b7234819e77ba72",
              "version_major": 2,
              "version_minor": 0
            },
            "text/plain": [
              "  0%|          | 0/1 [00:00<?, ?ba/s]"
            ]
          },
          "metadata": {},
          "output_type": "display_data"
        },
        {
          "data": {
            "application/vnd.jupyter.widget-view+json": {
              "model_id": "4df2c0885ca24fca86334f339325e751",
              "version_major": 2,
              "version_minor": 0
            },
            "text/plain": [
              "  0%|          | 0/1 [00:00<?, ?ba/s]"
            ]
          },
          "metadata": {},
          "output_type": "display_data"
        }
      ],
      "source": [
        "sentiment_encoded = sentiment.map(tokenize, batched=True, batch_size=None)"
      ]
    },
    {
      "cell_type": "code",
      "execution_count": null,
      "id": "70a97f95",
      "metadata": {
        "id": "70a97f95",
        "outputId": "5f6a114d-ced3-47a7-b894-3c8f26f97db0"
      },
      "outputs": [
        {
          "name": "stdout",
          "output_type": "stream",
          "text": [
            "['id', 'verse_text', 'label', 'input_ids', 'attention_mask']\n"
          ]
        }
      ],
      "source": [
        "print(sentiment_encoded[\"train\"].column_names)"
      ]
    },
    {
      "cell_type": "code",
      "execution_count": null,
      "id": "8b6d2a1f",
      "metadata": {
        "id": "8b6d2a1f"
      },
      "outputs": [],
      "source": []
    }
  ],
  "metadata": {
    "kernelspec": {
      "display_name": "Python 3 (ipykernel)",
      "language": "python",
      "name": "python3"
    },
    "language_info": {
      "codemirror_mode": {
        "name": "ipython",
        "version": 3
      },
      "file_extension": ".py",
      "mimetype": "text/x-python",
      "name": "python",
      "nbconvert_exporter": "python",
      "pygments_lexer": "ipython3",
      "version": "3.8.15"
    },
    "colab": {
      "provenance": [],
      "include_colab_link": true
    }
  },
  "nbformat": 4,
  "nbformat_minor": 5
}